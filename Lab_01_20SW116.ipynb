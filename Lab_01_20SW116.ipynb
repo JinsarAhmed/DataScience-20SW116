{
  "nbformat": 4,
  "nbformat_minor": 0,
  "metadata": {
    "colab": {
      "provenance": [],
      "authorship_tag": "ABX9TyOGgpwoSRf9EKzgETsZmywH",
      "include_colab_link": true
    },
    "kernelspec": {
      "name": "python3",
      "display_name": "Python 3"
    },
    "language_info": {
      "name": "python"
    }
  },
  "cells": [
    {
      "cell_type": "markdown",
      "metadata": {
        "id": "view-in-github",
        "colab_type": "text"
      },
      "source": [
        "<a href=\"https://colab.research.google.com/github/JinsarAhmed/DataScience-20SW116/blob/main/Lab_01_20SW116.ipynb\" target=\"_parent\"><img src=\"https://colab.research.google.com/assets/colab-badge.svg\" alt=\"Open In Colab\"/></a>"
      ]
    },
    {
      "cell_type": "markdown",
      "source": [
        "# **Lab-01: Data Types and Operators**\n",
        "# **RollNo: 20SW116**\n",
        "# **Section: 2**"
      ],
      "metadata": {
        "id": "kJU_0qIoDnOb"
      }
    },
    {
      "cell_type": "markdown",
      "source": [
        "# TASK: 01"
      ],
      "metadata": {
        "id": "Yqy0okMb9FnC"
      }
    },
    {
      "cell_type": "code",
      "source": [
        "name = \"Afridi\"\n",
        "age = 34\n",
        "\n",
        "print(\"My name is {} and i am {} years old\\n\".format(name, age))\n"
      ],
      "metadata": {
        "colab": {
          "base_uri": "https://localhost:8080/"
        },
        "id": "xns2Tq9q9L7Q",
        "outputId": "74cb3390-40ec-40af-e7bf-86b42ea591ed"
      },
      "execution_count": null,
      "outputs": [
        {
          "output_type": "stream",
          "name": "stdout",
          "text": [
            "My name is Afridi and i am 34 years old\n",
            "\n"
          ]
        }
      ]
    },
    {
      "cell_type": "markdown",
      "source": [
        "# TASK: 02"
      ],
      "metadata": {
        "id": "_dlTAXOc9YWf"
      }
    },
    {
      "cell_type": "code",
      "source": [
        "string = \"Hello, World!\"\n",
        "\n",
        "print(f\"capitalize(): {string.capitalize()}\")\n",
        "print(f\"count('l'): {string.count('l')}\")\n",
        "print(f\"endswith('World!'): {string.endswith('World!')}\")\n",
        "print(f\"find('o'): {string.find('o')}\")\n",
        "print(\"format(): {0}, {1}\".format(\"Hello\", \"World\"))\n",
        "print(f\"index('o'): {string.index('o')}\")\n",
        "print(f\"isalnum(): {string.isalnum()}\")\n",
        "print(f\"isalpha(): {string.isalpha()}\")\n",
        "print(f\"isascii(): {string.isascii()}\")\n",
        "print(f\"isdecimal(): {string.isdecimal()}\")\n",
        "print(f\"islower(): {string.islower()}\")\n",
        "print(f\"isnumeric(): {string.isnumeric()}\")\n",
        "print(f\"isprintable(): {string.isprintable()}\")\n",
        "print(f\"isupper(): {string.isupper()}\")\n",
        "print(f\"lower(): {string.lower()}\")\n",
        "print(f\"replace('o', 'X'): {string.replace('o', 'X')}\")\n",
        "print(f\"rfind('o'): {string.rfind('o')}\")\n",
        "print(f\"rindex('o'): {string.rindex('o')}\")\n",
        "print(f\"upper(): {string.upper()}\")\n",
        "print(f\"zfill(20): {string.zfill(20)}\")"
      ],
      "metadata": {
        "colab": {
          "base_uri": "https://localhost:8080/"
        },
        "id": "Bm5igkj19ccH",
        "outputId": "47d7d4d0-d2a1-4202-9c08-1b16eaa2e25e"
      },
      "execution_count": null,
      "outputs": [
        {
          "output_type": "stream",
          "name": "stdout",
          "text": [
            "capitalize(): Hello, world!\n",
            "count('l'): 3\n",
            "endswith('World!'): True\n",
            "find('o'): 4\n",
            "format(): Hello, World\n",
            "index('o'): 4\n",
            "isalnum(): False\n",
            "isalpha(): False\n",
            "isascii(): True\n",
            "isdecimal(): False\n",
            "islower(): False\n",
            "isnumeric(): False\n",
            "isprintable(): True\n",
            "isupper(): False\n",
            "lower(): hello, world!\n",
            "replace('o', 'X'): HellX, WXrld!\n",
            "rfind('o'): 8\n",
            "rindex('o'): 8\n",
            "upper(): HELLO, WORLD!\n",
            "zfill(20): 0000000Hello, World!\n"
          ]
        }
      ]
    },
    {
      "cell_type": "markdown",
      "source": [
        "# TASK: 03\n"
      ],
      "metadata": {
        "id": "VHg7NXP9-vkb"
      }
    },
    {
      "cell_type": "code",
      "source": [
        "\n",
        "month = 8\n",
        "days_in_month = [31,28,31,30,31,30,31,30,31,30,31,30]\n",
        "num_days = days_in_month[month]\n",
        "print(\"No of days in {}th month: \".format(month) , num_days)\n"
      ],
      "metadata": {
        "colab": {
          "base_uri": "https://localhost:8080/"
        },
        "id": "4zT_Ogck-zIy",
        "outputId": "a82a0454-277d-4f53-e0a0-4a2a0f420c5d"
      },
      "execution_count": null,
      "outputs": [
        {
          "output_type": "stream",
          "name": "stdout",
          "text": [
            "No of days in 8th month:  31\n"
          ]
        }
      ]
    },
    {
      "cell_type": "markdown",
      "source": [
        "# TASK: 04\n"
      ],
      "metadata": {
        "id": "r__PYtDG_AEk"
      }
    },
    {
      "cell_type": "code",
      "source": [
        "eclipse_dates = ['June 21, 2001', 'December 4, 2002', 'November 23, 2003',\n",
        " 'March 29, 2006', 'August 1, 2008', 'July 22, 2009',\n",
        " 'July 11, 2010', 'November 13, 2012', 'March 20, 2015', 'March 9, 2016']\n",
        "\n",
        "print(eclipse_dates[-3:])"
      ],
      "metadata": {
        "colab": {
          "base_uri": "https://localhost:8080/"
        },
        "id": "9iTzWXBS_C1a",
        "outputId": "6f90c363-d9cb-4da5-b247-d2589118ad74"
      },
      "execution_count": null,
      "outputs": [
        {
          "output_type": "stream",
          "name": "stdout",
          "text": [
            "['November 13, 2012', 'March 20, 2015', 'March 9, 2016']\n"
          ]
        }
      ]
    },
    {
      "cell_type": "markdown",
      "source": [
        "# TASK: 05"
      ],
      "metadata": {
        "id": "krlTl__m_L19"
      }
    },
    {
      "cell_type": "code",
      "source": [
        "student = {\n",
        "    \"name\": \"Afridi\",\n",
        "    \"age\": 20,\n",
        "    \"grades\": {\n",
        "        \"math\": 85,\n",
        "        \"science\": 92,\n",
        "        \"history\": 78\n",
        "    }\n",
        "}\n",
        "print(student)\n"
      ],
      "metadata": {
        "colab": {
          "base_uri": "https://localhost:8080/"
        },
        "id": "usBIzxYV_OZ5",
        "outputId": "714e0cf5-5796-40f9-a0c6-1c3a1302879a"
      },
      "execution_count": null,
      "outputs": [
        {
          "output_type": "stream",
          "name": "stdout",
          "text": [
            "{'name': 'Afridi', 'age': 20, 'grades': {'math': 85, 'science': 92, 'history': 78}}\n"
          ]
        }
      ]
    }
  ]
}