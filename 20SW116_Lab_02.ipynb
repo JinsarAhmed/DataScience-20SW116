{
  "nbformat": 4,
  "nbformat_minor": 0,
  "metadata": {
    "colab": {
      "provenance": [],
      "authorship_tag": "ABX9TyPyVcgxWOUF/P3VjUECaOmW",
      "include_colab_link": true
    },
    "kernelspec": {
      "name": "python3",
      "display_name": "Python 3"
    },
    "language_info": {
      "name": "python"
    }
  },
  "cells": [
    {
      "cell_type": "markdown",
      "metadata": {
        "id": "view-in-github",
        "colab_type": "text"
      },
      "source": [
        "<a href=\"https://colab.research.google.com/github/JinsarAhmed/DataScience-20SW116/blob/main/20SW116_Lab_02.ipynb\" target=\"_parent\"><img src=\"https://colab.research.google.com/assets/colab-badge.svg\" alt=\"Open In Colab\"/></a>"
      ]
    },
    {
      "cell_type": "markdown",
      "source": [
        "#**Lab-02: Control Flow**\n",
        "#RollNo: **20SW116**\n",
        "#Section: **2**"
      ],
      "metadata": {
        "id": "xBNDU1yCl-iA"
      }
    },
    {
      "cell_type": "markdown",
      "source": [
        "# TASK:01"
      ],
      "metadata": {
        "id": "5kkU9q_dl-8w"
      }
    },
    {
      "cell_type": "code",
      "source": [
        "# 20SW116\n",
        "# TASK: 01\n",
        "\n",
        "points = 174\n",
        "prize = ''\n",
        "result = ''\n",
        "# write your if statement here\n",
        "if points >= 1 and points<=50:\n",
        "  prize = 'wooden rabbit'\n",
        "elif points >=51 and points<=150:\n",
        "  prize = 'no prize'\n",
        "elif points >=151 and points<=180:\n",
        "  prize = 'water-thin mint'\n",
        "elif points >=181 and points<=200:\n",
        "  prize = 'penguin'\n",
        "elif points>200:\n",
        "  print('the point limit is 200, you cant exceed 200!')\n",
        "\n",
        "if prize == 'no prize':\n",
        "  result = 'oh dear, no prize this time'\n",
        "elif prize == '':\n",
        "  pass\n",
        "else:\n",
        "  result = 'Congratulations! you won a {}'.format(prize)\n",
        "\n",
        "print(result)\n"
      ],
      "metadata": {
        "colab": {
          "base_uri": "https://localhost:8080/"
        },
        "id": "iuxyatlvnGSz",
        "outputId": "01352637-f382-4cad-da41-727497bdc9a3"
      },
      "execution_count": 1,
      "outputs": [
        {
          "output_type": "stream",
          "name": "stdout",
          "text": [
            "Congratulations! you won a water-thin mint\n"
          ]
        }
      ]
    },
    {
      "cell_type": "markdown",
      "source": [
        "# TASK:02"
      ],
      "metadata": {
        "id": "StuLAlMlnSLY"
      }
    },
    {
      "cell_type": "code",
      "source": [
        "# 20SW116\n",
        "# TASK: 02\n",
        "\n",
        "answer = 7\n",
        "guess = 3\n",
        "\n",
        "if guess < answer:\n",
        "  result = \"Oops! Your guess was too low.\"\n",
        "elif guess > answer:\n",
        "  result = \"Oops! Your guess was too high.\"\n",
        "elif guess == answer:\n",
        "  result = \"Nice! Your guess matched the answer!\"\n",
        "\n",
        "print(result)\n",
        "\n"
      ],
      "metadata": {
        "colab": {
          "base_uri": "https://localhost:8080/"
        },
        "id": "2PfS9dn6nb_X",
        "outputId": "3aec75b4-e4d4-446c-8d63-7b646202c62d"
      },
      "execution_count": null,
      "outputs": [
        {
          "output_type": "stream",
          "name": "stdout",
          "text": [
            "Oops! Your guess was too low.\n"
          ]
        }
      ]
    },
    {
      "cell_type": "markdown",
      "source": [
        "#TASK: 03"
      ],
      "metadata": {
        "id": "MHT1h8tMnpqg"
      }
    },
    {
      "cell_type": "code",
      "source": [
        "# 20SW116\n",
        "# TASK: 03\n",
        "stateTax = {\n",
        "    \"CA\": 0.075,\n",
        "    \"MN\": 0.095,\n",
        "    \"NY\": 0.089\n",
        "}\n",
        "\n",
        "purchase_amount = 100\n",
        "\n",
        "for state in stateTax:\n",
        "    if state in stateTax:\n",
        "        taxRate = stateTax[state]\n",
        "        rightAmount = purchase_amount * (1 + taxRate)\n",
        "        print(\"Right Amount of tax in {}: ${}\".format(state, rightAmount))\n",
        "\n"
      ],
      "metadata": {
        "colab": {
          "base_uri": "https://localhost:8080/"
        },
        "id": "St0CG2LSntTv",
        "outputId": "c171d59b-3484-4237-a0e6-120774ad9674"
      },
      "execution_count": null,
      "outputs": [
        {
          "output_type": "stream",
          "name": "stdout",
          "text": [
            "Right Amount of tax in CA: $107.5\n",
            "Right Amount of tax in MN: $109.5\n",
            "Right Amount of tax in NY: $108.89999999999999\n"
          ]
        }
      ]
    },
    {
      "cell_type": "markdown",
      "source": [
        "#TASK: 04"
      ],
      "metadata": {
        "id": "wyRybx4Zn5F4"
      }
    },
    {
      "cell_type": "code",
      "source": [
        "# 20SW116\n",
        "# TASK: 04\n",
        "sentence = [\"the\", \"quick\", \"brown\", \"fox\", \"jumped\", \"over\", \"the\",\n",
        "\"lazy\", \"dog\"]\n",
        "\n",
        "for word in sentence:\n",
        "    print(word)\n"
      ],
      "metadata": {
        "colab": {
          "base_uri": "https://localhost:8080/"
        },
        "id": "XzIgybmun8fZ",
        "outputId": "fca2e6c7-fa2f-4731-86a5-9b7a48db3211"
      },
      "execution_count": null,
      "outputs": [
        {
          "output_type": "stream",
          "name": "stdout",
          "text": [
            "the\n",
            "quick\n",
            "brown\n",
            "fox\n",
            "jumped\n",
            "over\n",
            "the\n",
            "lazy\n",
            "dog\n"
          ]
        }
      ]
    },
    {
      "cell_type": "markdown",
      "source": [
        "#TASK: 05"
      ],
      "metadata": {
        "id": "GPqme0inoAXC"
      }
    },
    {
      "cell_type": "code",
      "source": [
        "# 20SW116\n",
        "# TASK: 05\n",
        "for integer in range(1, 31):\n",
        "    if integer % 5 == 0:\n",
        "        print(integer)"
      ],
      "metadata": {
        "colab": {
          "base_uri": "https://localhost:8080/"
        },
        "id": "dSu__2e0oC2T",
        "outputId": "96991a5f-eb6f-4e5c-c98e-af5f1c17746c"
      },
      "execution_count": null,
      "outputs": [
        {
          "output_type": "stream",
          "name": "stdout",
          "text": [
            "5\n",
            "10\n",
            "15\n",
            "20\n",
            "25\n",
            "30\n"
          ]
        }
      ]
    },
    {
      "cell_type": "markdown",
      "source": [
        "#TASK:06"
      ],
      "metadata": {
        "id": "hSKCujXcoUvL"
      }
    },
    {
      "cell_type": "code",
      "source": [
        "# 20SW116\n",
        "# TASK: 06\n",
        "names = [\"Rick Sanchez\", \"Morty Smith\", \"Summer Smith\", \"Jerry Smith\", \"Beth Smith\"]\n",
        "first_names = [fname.lower() for fname, _ in (name.split() for name in names)]\n",
        "print(first_names)"
      ],
      "metadata": {
        "colab": {
          "base_uri": "https://localhost:8080/"
        },
        "id": "OwrYZn3EoW3j",
        "outputId": "897a39bd-a45c-4185-96bd-fffc5b7c13a2"
      },
      "execution_count": null,
      "outputs": [
        {
          "output_type": "stream",
          "name": "stdout",
          "text": [
            "['rick', 'morty', 'summer', 'jerry', 'beth']\n"
          ]
        }
      ]
    },
    {
      "cell_type": "markdown",
      "source": [
        "#TASK: 07"
      ],
      "metadata": {
        "id": "_S5-PlrHocHC"
      }
    },
    {
      "cell_type": "code",
      "source": [
        "# 20SW116\n",
        "# TASK: 07\n",
        "multiples_3 = [3*mul for mul in range(1,21)]\n",
        "print(multiples_3)\n"
      ],
      "metadata": {
        "colab": {
          "base_uri": "https://localhost:8080/"
        },
        "id": "Q8kCV-8soeqQ",
        "outputId": "eec6008f-a715-4828-c327-43482075f593"
      },
      "execution_count": null,
      "outputs": [
        {
          "output_type": "stream",
          "name": "stdout",
          "text": [
            "[3, 6, 9, 12, 15, 18, 21, 24, 27, 30, 33, 36, 39, 42, 45, 48, 51, 54, 57, 60]\n"
          ]
        }
      ]
    },
    {
      "cell_type": "markdown",
      "source": [
        "#TASK: 08"
      ],
      "metadata": {
        "id": "n87Ng7Rmok0h"
      }
    },
    {
      "cell_type": "code",
      "source": [
        "# 20SW116\n",
        "# TASK: 08\n",
        "scores = {\n",
        " \"Rick Sanchez\": 70,\n",
        " \"Morty Smith\": 35,\n",
        " \"Summer Smith\": 82,\n",
        " \"Jerry Smith\": 23,\n",
        " \"Beth Smith\": 98\n",
        " }\n",
        "passed = [names for names in scores if scores[names] >= 65]\n",
        "print(\"Names of those who scored more than 65 are: \",passed)\n"
      ],
      "metadata": {
        "id": "qUVuNnkEomyy",
        "outputId": "16f517f4-6fce-4a28-e530-e1851efdc0eb",
        "colab": {
          "base_uri": "https://localhost:8080/"
        }
      },
      "execution_count": null,
      "outputs": [
        {
          "output_type": "stream",
          "name": "stdout",
          "text": [
            "Names of those who scored more than 65 are:  ['Rick Sanchez', 'Summer Smith', 'Beth Smith']\n"
          ]
        }
      ]
    },
    {
      "cell_type": "markdown",
      "source": [
        "#TASK: 09"
      ],
      "metadata": {
        "id": "0iKJ5A7FpBk9"
      }
    },
    {
      "cell_type": "code",
      "source": [
        "# 20SW116\n",
        "# TASK: 09\n",
        "cast_names = [\"Barney\", \"Robin\", \"Ted\", \"Lily\", \"Marshall\"]\n",
        "cast_heights = [72, 68, 72, 66, 76]\n",
        "\n",
        "cast = dict(zip(cast_names, cast_heights)) # my code\n",
        "print(cast)"
      ],
      "metadata": {
        "colab": {
          "base_uri": "https://localhost:8080/"
        },
        "id": "5nTIEoRrpGac",
        "outputId": "fef873e7-adbd-40fd-d8cf-f8e2d878fdf9"
      },
      "execution_count": null,
      "outputs": [
        {
          "output_type": "stream",
          "name": "stdout",
          "text": [
            "{'Barney': 72, 'Robin': 68, 'Ted': 72, 'Lily': 66, 'Marshall': 76}\n"
          ]
        }
      ]
    },
    {
      "cell_type": "markdown",
      "source": [
        "#TASK: 10"
      ],
      "metadata": {
        "id": "tmnB_uz8pJeU"
      }
    },
    {
      "cell_type": "code",
      "source": [
        "# 20SW116\n",
        "# TASK: 10\n",
        "cast = [\"Barney Stinson\", \"Robin Scherbatsky\", \"Ted Mosby\", \"Lily Aldrin\", \"Marshall Eriksen\"]\n",
        "heights = [72, 68, 72, 66, 76]\n",
        "\n",
        "for index, name in enumerate(cast):\n",
        "    cast[index] = name + \" \" +str(heights[index])\n",
        "\n",
        "print(cast)\n",
        "\n"
      ],
      "metadata": {
        "colab": {
          "base_uri": "https://localhost:8080/"
        },
        "id": "pUGd_3PMpL_B",
        "outputId": "1cd35cd7-1b4e-4660-e6cf-46cd8f0ae9b1"
      },
      "execution_count": null,
      "outputs": [
        {
          "output_type": "stream",
          "name": "stdout",
          "text": [
            "['Barney Stinson 72', 'Robin Scherbatsky 68', 'Ted Mosby 72', 'Lily Aldrin 66', 'Marshall Eriksen 76']\n"
          ]
        }
      ]
    }
  ]
}