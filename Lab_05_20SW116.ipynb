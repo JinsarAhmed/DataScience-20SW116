{
  "nbformat": 4,
  "nbformat_minor": 0,
  "metadata": {
    "colab": {
      "provenance": [],
      "authorship_tag": "ABX9TyOWCo2EU48/v7XvPrqceTea",
      "include_colab_link": true
    },
    "kernelspec": {
      "name": "python3",
      "display_name": "Python 3"
    },
    "language_info": {
      "name": "python"
    }
  },
  "cells": [
    {
      "cell_type": "markdown",
      "metadata": {
        "id": "view-in-github",
        "colab_type": "text"
      },
      "source": [
        "<a href=\"https://colab.research.google.com/github/JinsarAhmed/DataScience-20SW116/blob/main/Lab_05_20SW116.ipynb\" target=\"_parent\"><img src=\"https://colab.research.google.com/assets/colab-badge.svg\" alt=\"Open In Colab\"/></a>"
      ]
    },
    {
      "cell_type": "markdown",
      "source": [
        "#**Lab No-05 Tasks**\n",
        "#**Lab-05: Introduction to Pandas**\n",
        "#**Roll-No: 20SW116 (JINSAR AHMED)**\n",
        "#**Section: 2**"
      ],
      "metadata": {
        "id": "tnOhHWQwq04W"
      }
    },
    {
      "cell_type": "markdown",
      "source": [
        "#TASK: 01"
      ],
      "metadata": {
        "id": "B6NZZe21q7jr"
      }
    },
    {
      "cell_type": "code",
      "execution_count": null,
      "metadata": {
        "colab": {
          "base_uri": "https://localhost:8080/"
        },
        "id": "p2xosLqpqwR4",
        "outputId": "cdf4590b-3b2a-4ead-fe4f-69add84c5d18"
      },
      "outputs": [
        {
          "output_type": "stream",
          "name": "stdout",
          "text": [
            "Distance from the Sun:\n",
            "Earth       149.6\n",
            "Saturn     1433.5\n",
            "Mars        227.9\n",
            "Venus       108.2\n",
            "Jupiter     778.6\n",
            "dtype: float64\n",
            "\n",
            "Time for Sunlight to Reach Each Planet in minutes:\n",
            "Earth       8.311111\n",
            "Saturn     79.638889\n",
            "Mars       12.661111\n",
            "Venus       6.011111\n",
            "Jupiter    43.255556\n",
            "dtype: float64\n",
            "\n",
            "Planets where Sunlight Takes Less than 40 Minutes to reach:\n",
            "Earth     8.311111\n",
            "Mars     12.661111\n",
            "Venus     6.011111\n",
            "dtype: float64\n"
          ]
        }
      ],
      "source": [
        "import pandas as pd\n",
        "\n",
        "# Create a Pandas Series using the above data, with the name of the planets as\n",
        "# the index and the distance from the Sun as your data.\n",
        "\n",
        "distance_from_sun = [149.6, 1433.5, 227.9, 108.2, 778.6]\n",
        "planets = ['Earth', 'Saturn', 'Mars', 'Venus', 'Jupiter']\n",
        "dist_planets = pd.Series(distance_from_sun, index=planets)\n",
        "\n",
        "# Calculate the number of minutes it takes sunlight to reach each planet. You can\n",
        "# do this by dividing the distance from the Sun for each planet by the speed of light.\n",
        "# Since in the data above the distance from the Sun is in units of 10^6 km, you can\n",
        "# use a value for the speed of light of c = 18, since light travels 18 x 10^6 km/minute\n",
        "\n",
        "time_light = dist_planets/18\n",
        "\n",
        "# Use Boolean indexing to select only those planets for which sunlight takes less than 40 minutes to reach them.\n",
        "\n",
        "close_planets = time_light[time_light < 40]\n",
        "\n",
        "\n",
        "print(\"Distance from the Sun:\")\n",
        "print(dist_planets)\n",
        "print(\"\\nTime for Sunlight to Reach Each Planet in minutes:\")\n",
        "print(time_light)\n",
        "print(\"\\nPlanets where Sunlight Takes Less than 40 Minutes to reach:\")\n",
        "print(close_planets)"
      ]
    },
    {
      "cell_type": "markdown",
      "source": [
        "#TASK: 02"
      ],
      "metadata": {
        "id": "i-frJHm5uN5p"
      }
    },
    {
      "cell_type": "code",
      "source": [
        "import pandas as pd\n",
        "import numpy as np\n",
        "\n",
        "# Since we will be working with ratings, we will set the precision of our dataframes to one decimal place.\n",
        "pd.set_option('display.precision', 1)\n",
        "\n",
        "# Create a Pandas DataFrame that contains the ratings some users have given to a\n",
        "# series of books.\n",
        "\n",
        "books = pd.Series(data=['Great Expectations', 'Of Mice and Men', 'Romeo and Juliet', 'The Time Machine', 'Alice in Wonderland'])\n",
        "authors = pd.Series(data=['Charles Dickens', 'John Steinbeck', 'William Shakespeare', ' H. G. Wells', 'Lewis Carroll'])\n",
        "\n",
        "user_1 = pd.Series(data=[3.2, np.nan, 2.5])\n",
        "user_2 = pd.Series(data=[5., 1.3, 4.0, 3.8])\n",
        "user_3 = pd.Series(data=[2.0, 2.3, np.nan, 4])\n",
        "user_4 = pd.Series(data=[4, 3.5, 4, 5, 4.2])\n",
        "\n",
        "# Using data above to create a Pandas DataFrame that has the following column:\n",
        "# labels: 'Author', 'Book Title', 'User 1', 'User 2', 'User 3', 'User 4'.\n",
        "\n",
        "# Create a dictionary with the data given above\n",
        "dat = {\n",
        "    'Author': authors,\n",
        "    'Book Title': books,\n",
        "    'User 1': user_1,\n",
        "    'User 2': user_2,\n",
        "    'User 3': user_3,\n",
        "    'User 4': user_4\n",
        "}\n",
        "\n",
        "# Using dictionary to create a Pandas DataFrame\n",
        "book_ratings = pd.DataFrame(dat)\n",
        "\n",
        "\n",
        "# Replacing all the NaN values in DataFrame with the average rating in\n",
        "# each column.\n",
        "book_ratings.fillna(book_ratings.mean(), inplace=True)\n",
        "\n",
        "print(book_ratings)\n",
        "\n",
        "#Best rated books\n",
        "best_rated = book_ratings[(book_ratings == 5).any(axis = 1)]['Book Title'].values\n",
        "print(\"The best rated books are:\", best_rated)"
      ],
      "metadata": {
        "colab": {
          "base_uri": "https://localhost:8080/"
        },
        "id": "4qikHvzfuQ71",
        "outputId": "5e1d33df-2b9b-44a3-d377-838ba502be69"
      },
      "execution_count": 11,
      "outputs": [
        {
          "output_type": "stream",
          "name": "stdout",
          "text": [
            "                Author           Book Title  User 1  User 2  User 3  User 4\n",
            "0      Charles Dickens   Great Expectations     3.2     5.0     2.0     4.0\n",
            "1       John Steinbeck      Of Mice and Men     2.9     1.3     2.3     3.5\n",
            "2  William Shakespeare     Romeo and Juliet     2.5     4.0     2.8     4.0\n",
            "3          H. G. Wells     The Time Machine     2.9     3.8     4.0     5.0\n",
            "4        Lewis Carroll  Alice in Wonderland     2.9     3.5     2.8     4.2\n",
            "The best rated books are: ['Great Expectations' 'The Time Machine']\n"
          ]
        },
        {
          "output_type": "stream",
          "name": "stderr",
          "text": [
            "<ipython-input-11-6b98d522c5c2>:37: FutureWarning: The default value of numeric_only in DataFrame.mean is deprecated. In a future version, it will default to False. In addition, specifying 'numeric_only=None' is deprecated. Select only valid columns or specify the value of numeric_only to silence this warning.\n",
            "  book_ratings.fillna(book_ratings.mean(), inplace=True)\n"
          ]
        }
      ]
    }
  ]
}