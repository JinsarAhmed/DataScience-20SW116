{
  "nbformat": 4,
  "nbformat_minor": 0,
  "metadata": {
    "colab": {
      "provenance": [],
      "authorship_tag": "ABX9TyO9URS8JVtFSopReAejr9uB",
      "include_colab_link": true
    },
    "kernelspec": {
      "name": "python3",
      "display_name": "Python 3"
    },
    "language_info": {
      "name": "python"
    }
  },
  "cells": [
    {
      "cell_type": "markdown",
      "metadata": {
        "id": "view-in-github",
        "colab_type": "text"
      },
      "source": [
        "<a href=\"https://colab.research.google.com/github/JinsarAhmed/DataScience-20SW116/blob/main/20SW116_Lab_04.ipynb\" target=\"_parent\"><img src=\"https://colab.research.google.com/assets/colab-badge.svg\" alt=\"Open In Colab\"/></a>"
      ]
    },
    {
      "cell_type": "markdown",
      "source": [
        "#**Lab No-04 Tasks**\n",
        "#**Lab-04: Introduction to NumPy**\n",
        "#**Roll-No: 20SW116 (JINSAR AHMED)**\n",
        "#**Section: 2**"
      ],
      "metadata": {
        "id": "XS8mnhjY1k7k"
      }
    },
    {
      "cell_type": "markdown",
      "source": [
        "#TASK: 01"
      ],
      "metadata": {
        "id": "5RQlaNSl2AsP"
      }
    },
    {
      "cell_type": "code",
      "source": [
        "import numpy as np\n",
        "# Using the Built-in functions you learned about in the\n",
        "# previous lesson, create a 4 x 4 ndarray that only\n",
        "# contains consecutive even numbers from 2 to 32 (inclusive)\n",
        "\n",
        "X = np.arange(2,33,2).reshape(4,4)\n",
        "print(X)"
      ],
      "metadata": {
        "colab": {
          "base_uri": "https://localhost:8080/"
        },
        "id": "URiAn1AM2HTR",
        "outputId": "5acb2123-2ce5-4b9b-af35-916d09003b53"
      },
      "execution_count": null,
      "outputs": [
        {
          "output_type": "stream",
          "name": "stdout",
          "text": [
            "[[ 2  4  6  8]\n",
            " [10 12 14 16]\n",
            " [18 20 22 24]\n",
            " [26 28 30 32]]\n"
          ]
        }
      ]
    },
    {
      "cell_type": "markdown",
      "source": [
        "#TASK: 02\n"
      ],
      "metadata": {
        "id": "FBYNQyVo24Fg"
      }
    },
    {
      "cell_type": "code",
      "source": [
        "import numpy as np\n",
        "\n",
        "# Create a 5 x 5 ndarray with consecutive integers from 1 to 25 (inclusive).\n",
        "# Afterwards use Boolean indexing to pick out only the odd numbers in the array\n",
        "\n",
        "# Create a 5 x 5 ndarray with consecutive integers from 1 to 25 (inclusive).\n",
        "X = np.arange(1,26).reshape(5,5)\n",
        "print(X)\n",
        "# Use Boolean indexing to pick out only the odd numbers in the array\n",
        "Y = X[X%2 != 0]\n",
        "Y"
      ],
      "metadata": {
        "colab": {
          "base_uri": "https://localhost:8080/"
        },
        "id": "SWuIoC4L2_cN",
        "outputId": "fb463ef8-ca80-48a0-f244-6c035dbc2910"
      },
      "execution_count": null,
      "outputs": [
        {
          "output_type": "stream",
          "name": "stdout",
          "text": [
            "[[ 1  2  3  4  5]\n",
            " [ 6  7  8  9 10]\n",
            " [11 12 13 14 15]\n",
            " [16 17 18 19 20]\n",
            " [21 22 23 24 25]]\n"
          ]
        },
        {
          "output_type": "execute_result",
          "data": {
            "text/plain": [
              "array([ 1,  3,  5,  7,  9, 11, 13, 15, 17, 19, 21, 23, 25])"
            ]
          },
          "metadata": {},
          "execution_count": 10
        }
      ]
    },
    {
      "cell_type": "markdown",
      "source": [
        "#TASK: 03"
      ],
      "metadata": {
        "id": "OWl2cQEo4jc9"
      }
    },
    {
      "cell_type": "code",
      "source": [
        "import numpy as np\n",
        "\n",
        "# Use Broadcasting to create a 4 x 4 ndarray that has its first\n",
        "# column full of 1s, its second column full of 2s, its third\n",
        "# column full of 3s, etc..\n",
        "\n",
        "first_col = np.ones((4, 1), dtype=int)\n",
        "X = first_col * np.arange(1, 5,)\n",
        "\n",
        "print(X)\n",
        "\n"
      ],
      "metadata": {
        "colab": {
          "base_uri": "https://localhost:8080/"
        },
        "id": "oD9Zd0wT4mGS",
        "outputId": "d294ed75-5bb5-4d8e-9728-ef58bd0b61f9"
      },
      "execution_count": null,
      "outputs": [
        {
          "output_type": "stream",
          "name": "stdout",
          "text": [
            "[[1 2 3 4]\n",
            " [1 2 3 4]\n",
            " [1 2 3 4]\n",
            " [1 2 3 4]]\n"
          ]
        }
      ]
    },
    {
      "cell_type": "markdown",
      "source": [
        "# **THE END**"
      ],
      "metadata": {
        "id": "zitpAt0-OytH"
      }
    }
  ]
}
